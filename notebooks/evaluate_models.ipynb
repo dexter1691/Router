{
 "cells": [
  {
   "cell_type": "code",
   "execution_count": 21,
   "id": "eb998898",
   "metadata": {},
   "outputs": [
    {
     "name": "stdout",
     "output_type": "stream",
     "text": [
      "/home/ubuntu/Router\n"
     ]
    },
    {
     "name": "stderr",
     "output_type": "stream",
     "text": [
      "/home/ubuntu/Router/.venv/lib/python3.10/site-packages/IPython/core/magics/osm.py:417: UserWarning: This is now an optional IPython functionality, setting dhist requires you to install the `pickleshare` library.\n",
      "  self.shell.db['dhist'] = compress_dhist(dhist)[-100:]\n"
     ]
    }
   ],
   "source": [
    "cd /home/ubuntu/Router"
   ]
  },
  {
   "cell_type": "code",
   "execution_count": 30,
   "id": "fa343eec",
   "metadata": {},
   "outputs": [
    {
     "name": "stdout",
     "output_type": "stream",
     "text": [
      "The autoreload extension is already loaded. To reload it, use:\n",
      "  %reload_ext autoreload\n"
     ]
    }
   ],
   "source": [
    "%load_ext autoreload\n",
    "%autoreload 2\n",
    "\n",
    "from datasets import load_from_disk\n",
    "\n",
    "from sentence_transformers import (\n",
    "    SentenceTransformer,\n",
    "    SentenceTransformerTrainer,\n",
    "    SentenceTransformerTrainingArguments,\n",
    "    SentenceTransformerModelCardData,\n",
    ")\n",
    "from sentence_transformers.losses import MultipleNegativesRankingLoss\n",
    "from sentence_transformers.training_args import BatchSamplers\n",
    "from sentence_transformers.evaluation import BinaryClassificationEvaluator\n",
    "\n",
    "from router.embedding_router import generate_embeddings_sentence_transformer, return_top_k\n",
    "import json"
   ]
  },
  {
   "cell_type": "code",
   "execution_count": 23,
   "id": "52495b51",
   "metadata": {},
   "outputs": [
    {
     "name": "stderr",
     "output_type": "stream",
     "text": [
      "<All keys matched successfully>\n"
     ]
    },
    {
     "name": "stdout",
     "output_type": "stream",
     "text": [
      "SentenceTransformer(\n",
      "  (0): Transformer({'max_seq_length': 8192, 'do_lower_case': False, 'architecture': 'NomicBertModel'})\n",
      "  (1): Pooling({'word_embedding_dimension': 768, 'pooling_mode_cls_token': False, 'pooling_mode_mean_tokens': True, 'pooling_mode_max_tokens': False, 'pooling_mode_mean_sqrt_len_tokens': False, 'pooling_mode_weightedmean_tokens': False, 'pooling_mode_lasttoken': False, 'include_prompt': True})\n",
      ")\n"
     ]
    }
   ],
   "source": [
    "from sentence_transformers import SentenceTransformer\n",
    "\n",
    "model = SentenceTransformer(\"/home/ubuntu/Router/models/nomic-embed-text-v1.5-router/checkpoint-21000\", trust_remote_code=True)\n",
    "\n",
    "print(model)"
   ]
  },
  {
   "cell_type": "code",
   "execution_count": 25,
   "id": "bbde4efa",
   "metadata": {},
   "outputs": [
    {
     "name": "stdout",
     "output_type": "stream",
     "text": [
      "DatasetDict({\n",
      "    train: Dataset({\n",
      "        features: ['text1', 'text2'],\n",
      "        num_rows: 773081\n",
      "    })\n",
      "    val: Dataset({\n",
      "        features: ['text1', 'text2', 'label'],\n",
      "        num_rows: 85898\n",
      "    })\n",
      "    test: Dataset({\n",
      "        features: ['text1', 'text2', 'label'],\n",
      "        num_rows: 95443\n",
      "    })\n",
      "})\n"
     ]
    }
   ],
   "source": [
    "\n",
    "dataset_dict = load_from_disk(\"data/positive_pairs_train_val_test_1\")\n",
    "print(dataset_dict)"
   ]
  },
  {
   "cell_type": "code",
   "execution_count": 35,
   "id": "3be3888f",
   "metadata": {},
   "outputs": [
    {
     "name": "stdout",
     "output_type": "stream",
     "text": [
      "Length of tools_descriptions: 16\n",
      "Length of integrations_name: 16\n"
     ]
    }
   ],
   "source": [
    "tools_description_json = json.load(open(\"/home/ubuntu/Router/data/tool_descriptions.json\"))\n",
    "tools_descriptions = list(tools_description_json.values())\n",
    "integrations_name = list(tools_description_json.keys())\n",
    "\n",
    "print(f'Length of tools_descriptions: {len(tools_descriptions)}')\n",
    "print(f'Length of integrations_name: {len(integrations_name)}')"
   ]
  },
  {
   "cell_type": "code",
   "execution_count": 40,
   "id": "87efa535",
   "metadata": {},
   "outputs": [
    {
     "name": "stdout",
     "output_type": "stream",
     "text": [
      "embeddings: 38.77ms\n"
     ]
    }
   ],
   "source": [
    "tool_embeddings = generate_embeddings_sentence_transformer(model, tools_descriptions)"
   ]
  },
  {
   "cell_type": "code",
   "execution_count": null,
   "id": "34061a91",
   "metadata": {},
   "outputs": [
    {
     "name": "stderr",
     "output_type": "stream",
     "text": [
      "<All keys matched successfully>\n"
     ]
    },
    {
     "name": "stdout",
     "output_type": "stream",
     "text": [
      "embeddings: 29.38ms\n",
      "#15: Integration: Unachievable Tool: The \"unachievable_task\" tool indicates that the desired task cannot be accomplished using the current set of tools. It serves as a placeholder to communicate the unavailability of any functional operations for the requested task. Score: 0.9565341472625732\n",
      "#14: Integration: DirectMessage Tool: DirectMessage is a tool designed for direct communication, enabling users to reply to messages directly. Its primary functionality is to facilitate immediate and straightforward responses to user messages, ensuring efficient and clear communication. When this tool is called, no other tool can be called. Score: 0.4170185923576355\n",
      "#13: Integration: Files Tool: The \"Files\" app provides comprehensive file management capabilities, allowing users to create new files, update the contents of existing files, and move unwanted files to the trash. With these tools, users can efficiently generate, modify, and organize their digital documents within the application. Score: 0.3404604196548462\n",
      "#12: Integration: FaceTime Tool: FaceTime is an application that enables users to initiate video or audio calls with others. Its primary functionality includes the ability to start a FaceTime call, allowing for real-time communication between users. Score: 0.3312019109725952\n",
      "#11: Integration: Calendar Tool: The Calendar tool enables comprehensive event management by allowing users to create new events, update existing ones, delete events, and search for events within the calendar. This suite of functionalities supports efficient scheduling, modification, and organization of calendar events, making it easy to keep track of appointments and important dates. Score: 0.32084476947784424\n",
      "#10: Integration: Maps Tool: The Maps tool provides comprehensive mapping functionalities, allowing users to search for specific locations or addresses on the map and obtain detailed directions to their desired destinations. With the ability to both find places and generate step-by-step navigation, this tool supports efficient trip planning and location discovery. Score: 0.3172469437122345\n",
      "#9: Integration: Slack Tool: This tool integrates with Slack and enables users to send messages directly to Slack channels or individual users. It streamlines communication by allowing quick and efficient message delivery within the Slack workspace. Score: 0.3049889802932739\n",
      "#8: Integration: Notes Tool: The Notes app provides functionality to manage notes efficiently. Users can create new notes to capture information and update existing notes to modify or add to their content. These tools enable seamless note-taking and editing within the application. Score: 0.30392569303512573\n",
      "#7: Integration: Messages Tool: The \"Messages\" app allows users to communicate efficiently by providing two core features: the ability to send messages to contacts and the capability to search through existing messages. With \"send_message,\" users can compose and deliver new messages, while \"search_messages\" enables users to quickly locate past conversations or specific information within their message history. Score: 0.2996368408203125\n",
      "#6: Integration: WebBrowser Tool: The WebBrowser tool provides the ability to open a specified URL in a web browser, enabling users to directly access and view web pages of their choice. Score: 0.2966623306274414\n",
      "#5: Integration: Reminders Tool: The Reminders app offers tools to help users manage their reminders effectively. With the \"create_reminder\" tool, users can add new reminders for tasks or events they want to remember. The \"update_reminder\" tool allows users to modify details of existing reminders, ensuring their reminder list stays accurate and up to date. Score: 0.2966148257255554\n",
      "#4: Integration: Mail Tool: The Mail app offers comprehensive email management capabilities, including the ability to send emails to recipients and search for specific messages within the inbox. With the \"send_email\" tool, users can compose and dispatch emails, while the \"search_inbox\" tool allows for efficient retrieval of emails based on search criteria, making it easy to manage and locate correspondence. Score: 0.2888949513435364\n",
      "#3: Integration: Music Tool: The Music app offers functionality to search the music library for specific songs or artists and to play any song from the library. Users can easily find and listen to their favorite tracks using these tools. Score: 0.2881588041782379\n",
      "#2: Integration: Stocks Tool: The \"find_symbol\" tool in the Stocks app allows users to search for and obtain information about stock symbols. It helps users identify the correct ticker symbol for a company or security, providing essential details needed for stock tracking, trading, and financial analysis. This tool is particularly useful for those who need to look up or confirm the symbol associated with a specific publicly traded company. Score: 0.2810855209827423\n",
      "#1: Integration: Weather Tool: The Weather tool allows users to obtain current weather information for any specified location. By using the \"get_weather\" function, users can quickly access details such as temperature, weather conditions, and other relevant meteorological data for their chosen area. Score: 0.27977627515792847\n",
      "#0: Integration: System Tool: The \"System\" app includes the \"capture_screenshot\" tool, which enables users to take a screenshot of the current screen. This functionality is useful for capturing visual information displayed on the device, aiding in documentation, troubleshooting, or sharing screen content with others. Score: 0.256680965423584\n"
     ]
    }
   ],
   "source": [
    "from datasets import load_from_disk\n",
    "\n",
    "from sentence_transformers import SentenceTransformer\n",
    "from router.evals import Evals\n",
    "\n",
    "model = SentenceTransformer(\"/home/ubuntu/Router/models/nomic-embed-text-v1.5-router/checkpoint-21000\", trust_remote_code=True)\n",
    "\n",
    "evals_test_500_v0 = json.load(open(\"/home/ubuntu/Router/data/evals_test_500_v0.json\"))\n",
    "\n",
    "for test_row in evals_test_500_v0:\n",
    "    query_text = test_row['text1']\n",
    "    query_text = 'Turn on dark mode'\n",
    "    query_embeddings = generate_embeddings_sentence_transformer(model, [query_text])\n",
    "    if len(query_embeddings.shape) == 1:\n",
    "        query_embeddings = query_embeddings.reshape(1, -1)\n",
    "    \n",
    "    top_k_indices, top_k_scores = return_top_k(tool_embeddings, query_embeddings, 16)\n",
    "    for k in range(len(tool_embeddings) - 1, -1, -1):\n",
    "        tool_idx = top_k_indices[0][k]\n",
    "        tool_description = tools_descriptions[tool_idx]\n",
    "        integration_name = integrations_name[tool_idx]\n",
    "        print(f\"#{k}: Integration: {integration_name}: {tool_description} Score: {top_k_scores[0][k]}\")\n",
    "\n",
    "    break\n"
   ]
  },
  {
   "cell_type": "code",
   "execution_count": 17,
   "id": "17e3516d",
   "metadata": {},
   "outputs": [
    {
     "data": {
      "text/plain": [
       "numpy.ndarray"
      ]
     },
     "execution_count": 17,
     "metadata": {},
     "output_type": "execute_result"
    }
   ],
   "source": [
    "type(tools_descriptions_embeddings)"
   ]
  },
  {
   "cell_type": "code",
   "execution_count": null,
   "id": "c24c1072",
   "metadata": {},
   "outputs": [
    {
     "data": {
      "text/plain": [
       "768"
      ]
     },
     "execution_count": 28,
     "metadata": {},
     "output_type": "execute_result"
    }
   ],
   "source": [
    "query.shape"
   ]
  },
  {
   "cell_type": "code",
   "execution_count": null,
   "id": "f172a025",
   "metadata": {},
   "outputs": [],
   "source": []
  }
 ],
 "metadata": {
  "kernelspec": {
   "display_name": ".venv",
   "language": "python",
   "name": "python3"
  },
  "language_info": {
   "codemirror_mode": {
    "name": "ipython",
    "version": 3
   },
   "file_extension": ".py",
   "mimetype": "text/x-python",
   "name": "python",
   "nbconvert_exporter": "python",
   "pygments_lexer": "ipython3",
   "version": "3.10.0"
  }
 },
 "nbformat": 4,
 "nbformat_minor": 5
}
